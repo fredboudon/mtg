{
 "cells": [
  {
   "cell_type": "code",
   "execution_count": 1,
   "id": "55ebb676",
   "metadata": {
    "ExecuteTime": {
     "end_time": "2022-01-31T13:35:48.197121Z",
     "start_time": "2022-01-31T13:35:47.610317Z"
    }
   },
   "outputs": [
    {
     "ename": "ModuleNotFoundError",
     "evalue": "No module named 'openalea.deploy'",
     "output_type": "error",
     "traceback": [
      "\u001b[0;31m---------------------------------------------------------------------------\u001b[0m",
      "\u001b[0;31mModuleNotFoundError\u001b[0m                       Traceback (most recent call last)",
      "\u001b[0;32m/var/folders/vj/hq9w20m528qb4cymzh0dr08h0000gn/T/ipykernel_5233/3261618145.py\u001b[0m in \u001b[0;36m<module>\u001b[0;34m\u001b[0m\n\u001b[1;32m      1\u001b[0m \u001b[0;32mimport\u001b[0m \u001b[0mopenalea\u001b[0m\u001b[0;34m.\u001b[0m\u001b[0mmtg\u001b[0m\u001b[0;34m\u001b[0m\u001b[0;34m\u001b[0m\u001b[0m\n\u001b[0;32m----> 2\u001b[0;31m \u001b[0;32mfrom\u001b[0m \u001b[0mopenalea\u001b[0m\u001b[0;34m.\u001b[0m\u001b[0mdeploy\u001b[0m\u001b[0;34m.\u001b[0m\u001b[0mshared_data\u001b[0m \u001b[0;32mimport\u001b[0m \u001b[0mshared_data\u001b[0m\u001b[0;34m\u001b[0m\u001b[0;34m\u001b[0m\u001b[0m\n\u001b[0m\u001b[1;32m      3\u001b[0m \u001b[0mdata\u001b[0m \u001b[0;34m=\u001b[0m \u001b[0mshared_data\u001b[0m\u001b[0;34m(\u001b[0m\u001b[0mopenalea\u001b[0m\u001b[0;34m.\u001b[0m\u001b[0mmtg\u001b[0m\u001b[0;34m)\u001b[0m\u001b[0;34m\u001b[0m\u001b[0;34m\u001b[0m\u001b[0m\n",
      "\u001b[0;31mModuleNotFoundError\u001b[0m: No module named 'openalea.deploy'"
     ]
    }
   ],
   "source": [
    "import openalea.mtg\n",
    "from openalea.deploy.shared_data import shared_data\n",
    "data = shared_data(openalea.mtg)\n"
   ]
  },
  {
   "cell_type": "code",
   "execution_count": 2,
   "id": "3fb21d65",
   "metadata": {
    "ExecuteTime": {
     "end_time": "2022-01-31T13:36:24.321145Z",
     "start_time": "2022-01-31T13:36:23.979059Z"
    }
   },
   "outputs": [],
   "source": [
    "from openalea.mtg import *\n",
    "g = MTG('../../share/data/noylum2.mtg')"
   ]
  },
  {
   "cell_type": "code",
   "execution_count": 3,
   "id": "f75fee07",
   "metadata": {
    "ExecuteTime": {
     "end_time": "2022-01-31T13:36:25.111149Z",
     "start_time": "2022-01-31T13:36:25.108184Z"
    }
   },
   "outputs": [],
   "source": [
    "dressing_data = plantframe.DressingData(DiameterUnit=10)"
   ]
  },
  {
   "cell_type": "code",
   "execution_count": 4,
   "id": "44c32490",
   "metadata": {
    "ExecuteTime": {
     "end_time": "2022-01-31T13:36:26.269483Z",
     "start_time": "2022-01-31T13:36:26.137410Z"
    }
   },
   "outputs": [],
   "source": [
    "pf = plantframe.PlantFrame(g,\n",
    "                       TopDiameter='TopDia',\n",
    "                       DressingData = dressing_data)\n"
   ]
  },
  {
   "cell_type": "code",
   "execution_count": 5,
   "id": "8226318c",
   "metadata": {
    "ExecuteTime": {
     "end_time": "2022-01-31T13:36:27.539398Z",
     "start_time": "2022-01-31T13:36:27.091332Z"
    }
   },
   "outputs": [
    {
     "name": "stderr",
     "output_type": "stream",
     "text": [
      "qt.qpa.window: <QNSWindow: 0x7fc93a0b8580; contentView=<QNSView: 0x7fc93a0b80c0; QCocoaWindow(0x60000336a890, window=QWidgetWindow(0x6000020e1bc0, name=\"QGLWidgetClassWindow\"))>> has active key-value observers (KVO)! These will stop working now that the window is recreated, and will result in exceptions when the observers are removed. Break in QCocoaWindow::recreateWindowIfNeeded to debug.\n"
     ]
    },
    {
     "data": {
      "text/plain": [
       "<openalea.plantgl.scenegraph._pglsg.Scene at 0x1113986a0>"
      ]
     },
     "execution_count": 5,
     "metadata": {},
     "output_type": "execute_result"
    }
   ],
   "source": [
    "pf.plot(gc=True)"
   ]
  },
  {
   "cell_type": "markdown",
   "id": "a7918320",
   "metadata": {},
   "source": [
    "###Plotting at different scales"
   ]
  },
  {
   "cell_type": "code",
   "execution_count": 53,
   "id": "c06e58dd",
   "metadata": {},
   "outputs": [
    {
     "name": "stdout",
     "output_type": "stream",
     "text": [
      "+32\n",
      "\t+34\n",
      "\t\t+36\n",
      "\t\t+42\n",
      "\t\t+47\n",
      "\t+53\n",
      "\t\t+56\n",
      "\t\t+61\n",
      "\t+68\n",
      "\t\t+70\n",
      "\t\t+76\n",
      "\t\t\t+78\n",
      "\t\t+84\n",
      "\t\t+90\n",
      "\t\t+96\n",
      "\t\t\t+98\n",
      "\t\t+104\n",
      "\t\t\t+106\n",
      "\t\t\t\t+108\n",
      "\t\t\t+114\n",
      "\t\t\t+119\n",
      "\t\t\t\t+122\n",
      "\t\t+129\n",
      "\t+138\n",
      "\t\t+140\n",
      "\t\t\t+143\n",
      "\t\t+152\n",
      "\t\t\t+154\n",
      "\t\t+162\n",
      "\t+169\n",
      "\t\t+171\n",
      "\t+177\n",
      "\t\t+179\n",
      "\t\t\t+181\n",
      "\t\t\t+186\n",
      "\t\t+192\n",
      "\t\t\t+194\n",
      "\t\t\t\t+196\n",
      "\t\t\t\t+200\n",
      "\t\t\t+205\n",
      "\t\t\t\t+207\n",
      "\t\t\t\t+212\n",
      "\t\t\t\t+216\n",
      "\t\t\t+221\n",
      "\t\t\t\t+223\n",
      "\t\t\t\t+228\n",
      "\t\t\t+234\n",
      "\t\t\t\t+236\n",
      "\t\t\t\t\t+238\n",
      "\t\t\t\t+244\n",
      "\t\t\t\t\t+246\n",
      "\t\t\t\t+253\n",
      "\t\t\t+260\n",
      "\t\t\t+264\n",
      "\t\t\t\t+266\n",
      "\t\t\t+272\n",
      "\t\t\t+276\n",
      "\t\t+282\n",
      "\t\t\t+285\n",
      "\t\t\t\t+288\n",
      "\t\t\t\t+292\n",
      "\t\t\t\t\t+295\n",
      "\t\t\t\t\t+300\n",
      "\t\t\t\t\t+304\n",
      "\t\t\t\t+311\n",
      "\t\t\t\t+316\n",
      "\t\t\t+322\n",
      "\t\t\t\t+324\n",
      "\t\t\t\t\t+326\n",
      "\t\t\t\t\t\t+328\n",
      "\t\t\t\t+337\n",
      "\t\t\t\t\t+339\n",
      "\t\t\t\t\t+344\n",
      "\t\t\t\t\t+348\n",
      "\t\t\t\t+355\n",
      "\t\t\t\t\t+357\n",
      "\t\t\t\t\t+362\n",
      "\t\t\t\t+368\n",
      "\t\t\t+374\n",
      "\t\t\t\t+376\n",
      "\t\t\t\t\t+378\n",
      "\t\t\t\t\t+383\n",
      "\t\t\t\t\t\t+385\n",
      "\t\t\t\t\t\t+390\n",
      "\t\t\t\t+397\n",
      "\t\t\t\t\t+399\n",
      "\t\t\t\t\t\t+401\n",
      "\t\t\t\t\t\t+406\n",
      "\t\t\t\t\t+411\n",
      "\t\t\t\t\t\t+413\n",
      "\t\t\t\t\t\t+418\n",
      "\t+427\n",
      "\t\t+430\n",
      "\t\t\t+432\n",
      "\t\t+438\n",
      "\t\t+443\n",
      "\t\t\t+446\n",
      "\t\t+452\n",
      "\t\t\t+454\n",
      "\t\t\t+459\n",
      "\t\t\t+463\n",
      "\t\t+469\n",
      "\t+475\n",
      "\t\t+477\n",
      "\t\t\t+479\n",
      "\t\t+487\n",
      "\t+493\n",
      "\t\t+495\n",
      "\t\t\t+497\n",
      "\t\t\t\t+499\n",
      "\t\t\t\t+503\n",
      "\t\t\t+510\n",
      "\t\t\t+515\n",
      "\t\t+522\n",
      "\t\t\t+525\n",
      "\t\t\t\t+528\n",
      "\t\t\t\t+534\n",
      "\t\t\t+541\n",
      "\t\t\t+546\n",
      "\t\t+554\n",
      "\t\t\t+556\n",
      "\t\t\t\t+558\n",
      "\t\t\t\t+563\n",
      "\t\t\t\t+567\n",
      "\t\t\t+573\n",
      "\t\t\t\t+575\n",
      "\t\t\t\t\t+577\n",
      "\t\t\t\t+583\n",
      "\t\t\t+588\n",
      "\t\t\t+592\n",
      "\t\t\t\t+594\n",
      "\t\t\t+600\n",
      "\t\t\t\t+602\n",
      "\t\t\t+609\n",
      "\t\t\t+613\n",
      "\t+621\n",
      "\t+627\n",
      "\t\t+629\n",
      "\t\t+634\n",
      "\t\t+639\n",
      "\t\t+644\n",
      "\t+651\n",
      "\t+656\n",
      "\t\t+658\n",
      "\t\t\t+660\n",
      "\t\t\t\t+662\n",
      "\t\t\t+668\n",
      "\t\t\t+673\n",
      "\t\t\t\t+675\n",
      "\t\t\t+682\n",
      "\t\t\t+687\n",
      "\t\t+693\n",
      "\t\t\t+695\n",
      "\t\t\t\t+697\n",
      "\t\t\t+703\n",
      "\t\t+709\n",
      "\t\t\t+711\n",
      "\t\t\t+715\n",
      "\t\t+720\n",
      "\t\t+724\n",
      "\t\t+728\n",
      "\t\t+732\n",
      "\t\t+736\n",
      "\t+743\n",
      "\t\t+745\n",
      "\t\t+750\n",
      "\t\t\t+752\n",
      "\t\t\t+757\n",
      "\t\t+764\n",
      "\t\t\t+766\n",
      "\t\t\t\t+768\n",
      "\t\t\t\t+772\n",
      "\t\t+780\n",
      "\t\t\t+782\n",
      "\t\t+788\n",
      "\t+794\n",
      "\t\t+796\n",
      "\t+802\n",
      "\t+807\n",
      "\t\t+809\n",
      "\t\t+814\n",
      "\t\t\t+816\n",
      "\t\t+822\n",
      "\t\t\t+824\n",
      "\t\t\t\t+826\n",
      "\t\t\t+832\n",
      "\t\t+838\n",
      "\t\t\t+840\n",
      "\t\t\t+844\n",
      "\t\t\t+848\n",
      "\t\t+856\n",
      "\t\t\t+858\n",
      "\t\t+865\n",
      "\t\t+869\n",
      "\t+876\n",
      "\t\t+878\n",
      "\t+884\n",
      "\t\t+886\n",
      "\t+892\n",
      "\t\t+895\n",
      "\t\t+899\n",
      "\t+908\n",
      "\t+912\n",
      "\t+916\n"
     ]
    }
   ],
   "source": [
    "from openalea.mtg import io\n",
    "labels = {vid:str(vid) for vid in g}\n",
    "print '\\n'.join(io.display_tree(g, 32, labels=labels))"
   ]
  },
  {
   "cell_type": "code",
   "execution_count": 35,
   "id": "0c0c8dbf",
   "metadata": {},
   "outputs": [
    {
     "data": {
      "text/plain": [
       "[4, 7, 10, 13, 16, 19, 22, 25, 28, 32, 923, 3085, 4064, 5395, 6712]"
      ]
     },
     "execution_count": 35,
     "metadata": {},
     "output_type": "execute_result"
    }
   ],
   "source": [
    "g.component_roots_at_scale(g.root, scale=2)\n",
    "g.children(2)"
   ]
  },
  {
   "cell_type": "code",
   "execution_count": 39,
   "id": "82b5b05e",
   "metadata": {},
   "outputs": [
    {
     "data": {
      "text/plain": [
       "6427"
      ]
     },
     "execution_count": 39,
     "metadata": {},
     "output_type": "execute_result"
    }
   ],
   "source": [
    "g.nb_vertices(scale=3)"
   ]
  },
  {
   "cell_type": "code",
   "execution_count": 41,
   "id": "fd009f4b",
   "metadata": {},
   "outputs": [
    {
     "data": {
      "text/plain": [
       "{'S', 'U'}"
      ]
     },
     "execution_count": 41,
     "metadata": {},
     "output_type": "execute_result"
    }
   ],
   "source": [
    "set(g.class_name(v) for v in g.vertices_iter(scale=3))"
   ]
  },
  {
   "cell_type": "code",
   "execution_count": 69,
   "id": "2405fc96",
   "metadata": {},
   "outputs": [],
   "source": [
    "from openalea.mtg.plantframe import turtle as turtlemod\n",
    "from openalea.plantgl.all import Viewer, PglTurtle\n",
    "import random\n",
    "\n",
    "def my_visitor(g, v, my_turtle):\n",
    "    n = g.node(v)\n",
    "    if g.edge_type(v) == '+':\n",
    "        my_turtle.down(random.random()*60.)\n",
    "    my_turtle.setId(v)\n",
    "    my_turtle.F()\n",
    "    my_turtle.rollL(n.Az1)\n",
    "        \n",
    "        \n",
    "scene = turtle.traverse_with_turtle(g, 32, gc=False, visitor=my_visitor)\n",
    "Viewer.display(scene)\n",
    "\n"
   ]
  },
  {
   "cell_type": "code",
   "execution_count": 98,
   "id": "5f07e7df",
   "metadata": {},
   "outputs": [],
   "source": [
    "# PlantFrame Visitor\n",
    "def points(g, v):\n",
    "    XX = g.property('XX')\n",
    "    YY = g.property('YY')\n",
    "    ZZ = g.property('ZZ')\n",
    "    \n",
    "    if v in XX and v in YY and v in ZZ:\n",
    "        return (XX[v], YY[v], ZZ[v]) \n",
    "    \n",
    "    \n",
    "def plantframe_visitor(g, v, turtle):\n",
    "    \"\"\"\n",
    "    \"\"\"\n",
    "    n = g.node(v)\n",
    "    max_scale = g.max_scale()\n",
    "    diameters = g.property('TopDia')\n",
    "    radius = diameters.get(v)\n",
    "    if radius:\n",
    "        radius = radius /20.\n",
    "    elif g.scale(v) < max_scale:\n",
    "        try:\n",
    "            vm = g.component_roots_at_scale_iter(v, scale=max_scale).next()\n",
    "            radius = diameters.get(vm, 0.)/2.\n",
    "        except:\n",
    "            radius = 0.\n",
    "\n",
    "    pt = points(g, v)\n",
    "    if not pt and g.scale(v) != max_scale:\n",
    "        try:\n",
    "            vm = g.component_roots_at_scale_iter(v, scale=max_scale).next()\n",
    "            pt = points(g, vm)\n",
    "        except: pass\n",
    "\n",
    "    if pt:\n",
    "        turtle.setId(v)\n",
    "        turtle.lineTo(pt, radius)\n",
    "    else:\n",
    "        turtle.setId(v)\n",
    "        if g.edge_type(v) == '+':\n",
    "            turtle.down()\n",
    "        turtle.F()\n",
    "        if radius:\n",
    "            turtle.setWidth(radius)\n",
    "        turtle.rollL()\n",
    "\n",
    "root_id = 35\n",
    "my_turtle = PglTurtle()\n",
    "my_turtle.move(points(g, g.parent(root_id)))\n",
    "diam = g.node(root_id).TopDia\n",
    "my_turtle.setWidth(diam/20.)\n",
    "\n",
    "\n",
    "scene = turtle.traverse_with_turtle(g, root_id, gc=False, visitor=plantframe_visitor, turtle=my_turtle)\n",
    "root_id = 3084\n",
    "my_turtle.move(points(g, g.parent(root_id)))\n",
    "diam = g.node(root_id).TopDia\n",
    "my_turtle.setWidth(diam/20.)\n",
    "scene = turtle.traverse_with_turtle(g, root_id, gc=False, visitor=plantframe_visitor, turtle=my_turtle)\n",
    "\n",
    "Viewer.display(scene)"
   ]
  },
  {
   "cell_type": "code",
   "execution_count": 76,
   "id": "37ff823b",
   "metadata": {},
   "outputs": [
    {
     "data": {
      "text/plain": [
       "(-3.45, -21.07, -27.23)"
      ]
     },
     "execution_count": 76,
     "metadata": {},
     "output_type": "execute_result"
    }
   ],
   "source": [
    "points(g, g.parent(32))"
   ]
  },
  {
   "cell_type": "code",
   "execution_count": 73,
   "id": "96e54253",
   "metadata": {},
   "outputs": [],
   "source": [
    "pf.plot??"
   ]
  },
  {
   "cell_type": "code",
   "execution_count": 21,
   "id": "c8c89cc9",
   "metadata": {},
   "outputs": [
    {
     "name": "stdout",
     "output_type": "stream",
     "text": [
      "3\n"
     ]
    }
   ],
   "source": [
    "g.children(g.parent(g.parent(35)))"
   ]
  },
  {
   "cell_type": "code",
   "execution_count": 24,
   "id": "8c0cb00f",
   "metadata": {},
   "outputs": [
    {
     "data": {
      "text/plain": [
       "<openalea.plantgl.scenegraph._pglsg.Scene at 0x114a57bb0>"
      ]
     },
     "execution_count": 24,
     "metadata": {},
     "output_type": "execute_result"
    }
   ],
   "source": [
    "plot(pf, scale=1)"
   ]
  },
  {
   "cell_type": "code",
   "execution_count": null,
   "id": "be0f9f57",
   "metadata": {},
   "outputs": [],
   "source": []
  }
 ],
 "metadata": {
  "kernelspec": {
   "display_name": "Python 3 (ipykernel)",
   "language": "python",
   "name": "python3"
  },
  "language_info": {
   "codemirror_mode": {
    "name": "ipython",
    "version": 3
   },
   "file_extension": ".py",
   "mimetype": "text/x-python",
   "name": "python",
   "nbconvert_exporter": "python",
   "pygments_lexer": "ipython3",
   "version": "3.9.9"
  }
 },
 "nbformat": 4,
 "nbformat_minor": 1
}
