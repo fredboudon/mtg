{
 "cells": [
  {
   "cell_type": "markdown",
   "metadata": {},
   "source": [
    "# Improving edition of MTG with L-systems like primitives"
   ]
  },
  {
   "cell_type": "markdown",
   "metadata": {},
   "source": [
    "## Initialization"
   ]
  },
  {
   "cell_type": "code",
   "execution_count": 1,
   "metadata": {
    "collapsed": false,
    "jupyter": {
     "outputs_hidden": false
    }
   },
   "outputs": [
    {
     "name": "stderr",
     "output_type": "stream",
     "text": [
      "Warning: Ignoring XDG_SESSION_TYPE=wayland on Gnome. Use QT_QPA_PLATFORM=wayland to run on Wayland anyway.\n",
      "QApplication: invalid style override 'kvantum' passed, ignoring it.\n",
      "\tAvailable styles: Windows, Fusion\n"
     ]
    }
   ],
   "source": [
    "%matplotlib inline\n",
    "%gui qt\n",
    "import pylab"
   ]
  },
  {
   "cell_type": "markdown",
   "metadata": {},
   "source": [
    "The rewriting module adds L-systems capabilities on MTG."
   ]
  },
  {
   "cell_type": "code",
   "execution_count": 2,
   "metadata": {},
   "outputs": [],
   "source": [
    "from openalea.mtg.rewriting import *"
   ]
  },
  {
   "cell_type": "markdown",
   "metadata": {},
   "source": [
    "## Modules declaration\n",
    "\n",
    "Modules are declared using the 'module' function. It should specified the name of the module and the scale. Once declared, a new type exists that can be used to create the model.\n",
    "\n",
    "**Limit** : For now, a third parameter that should be set to globals() has to be given."
   ]
  },
  {
   "cell_type": "code",
   "execution_count": 3,
   "metadata": {},
   "outputs": [],
   "source": [
    "module('Plant',     1, globals())\n",
    "module('Internode', 2, globals())\n",
    "module('Leaf',      2, globals())\n",
    "module('LeafBud',   3, globals())\n",
    "module('AxisBud',   3, globals())\n",
    "module('ISegment',  3, globals())\n",
    "module('LSegment',  3, globals())"
   ]
  },
  {
   "cell_type": "markdown",
   "metadata": {},
   "source": [
    "##  Model declaration\n",
    "A class deriving from MTGLsystem will contains all the rules of the model.\n",
    "The axiom is specified with the function\n",
    "\n",
    "    def axiom(self):\n",
    "       produce ...\n",
    "    \n",
    "Rules are then specified with functions. Production rules are specified with the '@production' decorator. Interpretation rules with '@interpretation'."
   ]
  },
  {
   "cell_type": "markdown",
   "metadata": {},
   "source": [
    "### Productions\n",
    "A production rule has the following syntax.\n",
    "The predecessor is specified with the name of the function\n",
    "To replace a A module for instance, it should be specified like this\n",
    "\n",
    "    @production\n",
    "    def A(node): ...\n",
    "\n",
    "To specify the context of the rule, all the MTG primitive can be used (using the ProxyNode interface).\n",
    "For instance to see if the node has a B as parent,\n",
    "\n",
    "         if node.parent().match(B):\n",
    "\n",
    "Finally to specify the successor, the nproduce and produce command of the node should be used.\n",
    "\n",
    "             node.nproduce(C(length=2),D)\n",
    "             node.nproduce([D])\n",
    "             node.produce(node)\n",
    "\n",
    "The normal bracket can be used to specify a branch. Alternativelly if the branch is specified with multiple nproduce\n",
    "'[' and ']' or SB() and EB() can be used.\n",
    "\n",
    "**Limits** : Two successive modules are specified with coma in between. Name of the modules should follow standart python variable convention. Short symbols (+-/\\_ ...) cannot be used."
   ]
  },
  {
   "cell_type": "markdown",
   "metadata": {},
   "source": [
    "### Interpretation\n",
    "The interpretation rules are based on the PlantGL turtle and have the following syntax\n",
    "\n",
    "    @interpretation\n",
    "    def D(node, turtle):\n",
    "        turtle.down(60).F(5).setColor(2).quad(5)\n"
   ]
  },
  {
   "cell_type": "markdown",
   "metadata": {},
   "source": [
    "**Limit** : 2 rules with the same predecessor cannot be written. Production and Interpretation of the same module cannot be in the same model.\n",
    "\n",
    "**Advantage** : Model can derive from each other."
   ]
  },
  {
   "cell_type": "code",
   "execution_count": 6,
   "metadata": {},
   "outputs": [],
   "source": [
    "class MySimu(MTGLsystem):\n",
    "    def __init__(self):\n",
    "        MTGLsystem.__init__(self)\n",
    "\n",
    "    # Axiom\n",
    "    def axiom(self):\n",
    "        return produce(Plant(), Internode(), ISegment(length=3), [ LeafBud()], AxisBud(age=0))\n",
    "\n",
    "    # Production rules\n",
    "    @production\n",
    "    def AxisBud(self, node): \n",
    "        \"\"\" ISegment < AxisBud --> Internode ISegment [LeafBud] AxisBud \"\"\"\n",
    "        if node.parent().match(ISegment):      \n",
    "            node.age += 1\n",
    "            node.produce( Internode(),ISegment(length=3), [LeafBud()], node)\n",
    "\n",
    "    @production\n",
    "    def LeafBud(self, node): \n",
    "        \"\"\" ISegment < LeafBud --> [ Internode ISegment Leaf LSegment x5 ] \"\"\"\n",
    "        from math import sin, pi\n",
    "        if node.parent().match(ISegment):      \n",
    "            node.nproduce('[',Internode(), ISegment(length=2), Leaf())\n",
    "            for i in range(5):\n",
    "                node.nproduce(LSegment(radius = sin((i+1)*pi/6.5)))\n",
    "            node.produce(']')\n",
    "\n",
    "    # Interpretation rules\n",
    "    @interpretation\n",
    "    def ISegment(self, node, turtle):\n",
    "        \"\"\" ISegment --> /(137) &(60) F(l) \"\"\"\n",
    "        turtle.rollL(137)\n",
    "        if node.edge_type() == '+': turtle.down(60)\n",
    "        turtle.F(node.length)\n",
    "\n",
    "    @interpretation\n",
    "    def Leaf(self, node, turtle):\n",
    "        \"\"\" Leaf --> ,(2) | \"\"\"\n",
    "        turtle.setColor(2).rollToVert()\n",
    "\n",
    "    @interpretation\n",
    "    def LSegment(self, node, turtle):\n",
    "        \"\"\" \n",
    "        LSegment(radius) > LSegment(topradius) --> &(10) _(radius) Quad(2,topradius) \n",
    "        LSegment(radius) --> &(10) _(radius) Quad(2,0) \n",
    "\n",
    "        \"\"\"\n",
    "        try:\n",
    "            n = node.children()[0]\n",
    "            topradius = n.radius\n",
    "        except:\n",
    "            topradius = 0\n",
    "        turtle.down(10).setWidth(node.radius).quad(2, topradius)"
   ]
  },
  {
   "cell_type": "markdown",
   "metadata": {},
   "source": [
    "## Simulation\n",
    "\n",
    "The simulation object should be instancied. Functions 'run(nbstep)', 'animate(nbstep,dt)' can be used to launch the simulation. To plot a model, 'simu.plot()' can also be used. In this case, the geometry is computed and added to the MTG.\n",
    "\n",
    "**Limit** : For now, the production are applied directly. Side effect can occur during the simulation."
   ]
  },
  {
   "cell_type": "code",
   "execution_count": 11,
   "metadata": {
    "collapsed": false,
    "jupyter": {
     "outputs_hidden": false
    }
   },
   "outputs": [],
   "source": [
    "simu = MySimu()\n",
    "mtg = simu.animate(20)"
   ]
  },
  {
   "cell_type": "code",
   "execution_count": 8,
   "metadata": {
    "collapsed": false,
    "jupyter": {
     "outputs_hidden": false
    }
   },
   "outputs": [
    {
     "data": {
      "image/png": "[encoded data removed]",
      "text/plain": [
       "<IPython.core.display.Image object>"
      ]
     },
     "metadata": {},
     "output_type": "display_data"
    }
   ],
   "source": [
    "# display(PlantGL(simu.sceneInterpretation()))\n",
    "\n",
    "from IPython.display import Image, display\n",
    "import tempfile, os\n",
    "from openalea.plantgl.all import Viewer\n",
    "fn = tempfile.mktemp(suffix='.png')\n",
    "Viewer.saveSnapshot(fn)\n",
    "img = Image(fn)\n",
    "os.unlink(fn)\n",
    "display(img)"
   ]
  },
  {
   "cell_type": "markdown",
   "metadata": {},
   "source": [
    "## The resulting MTG"
   ]
  },
  {
   "cell_type": "code",
   "execution_count": 10,
   "metadata": {
    "collapsed": false,
    "jupyter": {
     "outputs_hidden": false
    }
   },
   "outputs": [
    {
     "name": "stdout",
     "output_type": "stream",
     "text": [
      "Result:\n",
      "MTG : nb_vertices=206, nb_scales=4\n",
      "/Plant\t\t\t(id=1, scale=1)\t\t\t\t\t\t\t\t\t\t\t\n",
      "^/Internode\t\t\t(id=2, scale=2)\t\t\t\t\t\t\t\t\t\t\t\n",
      "^/ISegment\t\t\t(id=3, scale=3)\t\t\t\t\t\t\t\t\t\t\t\n",
      "\t+Internode\t\t\t(id=6, scale=2)\t\t\t\t\t\t\t\t\t\t\n",
      "\t^/ISegment\t\t\t(id=7, scale=3)\t\t\t\t\t\t\t\t\t\t\n",
      "\t^<Leaf\t\t\t(id=8, scale=2)\t\t\t\t\t\t\t\t\t\t\n",
      "\t^/LSegment\t\t\t(id=9, scale=3)\t\t\t\t\t\t\t\t\t\t\n",
      "\t^<LSegment\t\t\t(id=10, scale=3)\t\t\t\t\t\t\t\t\t\t\n",
      "\t^<LSegment\t\t\t(id=11, scale=3)\t\t\t\t\t\t\t\t\t\t\n",
      "\t^<LSegment\t\t\t(id=12, scale=3)\t\t\t\t\t\t\t\t\t\t\n",
      "\t^<LSegment\t\t\t(id=13, scale=3)\t\t\t\t\t\t\t\t\t\t\n",
      "^<Internode\t\t\t(id=14, scale=2)\t\t\t\t\t\t\t\t\t\t\t\n",
      "^/ISegment\t\t\t(id=15, scale=3)\t\t\t\t\t\t\t\t\t\t\t\n",
      "\t+Internode\t\t\t(id=18, scale=2)\t\t\t\t\t\t\t\t\t\t\n",
      "\t^/ISegment\t\t\t(id=19, scale=3)\t\t\t\t\t\t\t\t\t\t\n",
      "\t^<Leaf\t\t\t(id=20, scale=2)\t\t\t\t\t\t\t\t\t\t\n",
      "\t^/LSegment\t\t\t(id=21, scale=3)\t\t\t\t\t\t\t\t\t\t\n",
      "\t^<LSegment\t\t\t(id=22, scale=3)\t\t\t\t\t\t\t\t\t\t\n",
      "\t^<LSegment\t\t\t(id=23, scale=3)\t\t\t\t\t\t\t\t\t\t\n",
      "\t^<LSegment\t\t\t(id=24, scale=3)\t\t\t\t\t\t\t\t\t\t\n",
      "\t^<LSegment\t\t\t(id=25, scale=3)\t\t\t\t\t\t\t\t\t\t\n",
      "^<Internode\t\t\t(id=26, scale=2)\t\t\t\t\t\t\t\t\t\t\t\n",
      "^/ISegment\t\t\t(id=27, scale=3)\t\t\t\t\t\t\t\t\t\t\t\n",
      "\t+Internode\t\t\t(id=30, scale=2)\t\t\t\t\t\t\t\t\t\t\n",
      "\t^/ISegment\t\t\t(id=31, scale=3)\t\t\t\t\t\t\t\t\t\t\n",
      "\t^<Leaf\t\t\t(id=32, scale=2)\t\t\t\t\t\t\t\t\t\t\n",
      "\t^/LSegment\t\t\t(id=33, scale=3)\t\t\t\t\t\t\t\t\t\t\n",
      "\t^<LSegment\t\t\t(id=34, scale=3)\t\t\t\t\t\t\t\t\t\t\n",
      "\t^<LSegment\t\t\t(id=35, scale=3)\t\t\t\t\t\t\t\t\t\t\n",
      "\t^<LSegment\t\t\t(id=36, scale=3)\t\t\t\t\t\t\t\t\t\t\n",
      "\t^<LSegment\t\t\t(id=37, scale=3)\t\t\t\t\t\t\t\t\t\t\n",
      "^<Internode\t\t\t(id=38, scale=2)\t\t\t\t\t\t\t\t\t\t\t\n",
      "^/ISegment\t\t\t(id=39, scale=3)\t\t\t\t\t\t\t\t\t\t\t\n",
      "\t+Internode\t\t\t(id=42, scale=2)\t\t\t\t\t\t\t\t\t\t\n",
      "\t^/ISegment\t\t\t(id=43, scale=3)\t\t\t\t\t\t\t\t\t\t\n",
      "\t^<Leaf\t\t\t(id=44, scale=2)\t\t\t\t\t\t\t\t\t\t\n",
      "\t^/LSegment\t\t\t(id=45, scale=3)\t\t\t\t\t\t\t\t\t\t\n",
      "\t^<LSegment\t\t\t(id=46, scale=3)\t\t\t\t\t\t\t\t\t\t\n",
      "\t^<LSegment\t\t\t(id=47, scale=3)\t\t\t\t\t\t\t\t\t\t\n",
      "\t^<LSegment\t\t\t(id=48, scale=3)\t\t\t\t\t\t\t\t\t\t\n",
      "\t^<LSegment\t\t\t(id=49, scale=3)\t\t\t\t\t\t\t\t\t\t\n",
      "^<Internode\t\t\t(id=50, scale=2)\t\t\t\t\t\t\t\t\t\t\t\n",
      "^/ISegment\t\t\t(id=51, scale=3)\t\t\t\t\t\t\t\t\t\t\t\n",
      "\t+Internode\t\t\t(id=54, scale=2)\t\t\t\t\t\t\t\t\t\t\n",
      "\t^/ISegment\t\t\t(id=55, scale=3)\t\t\t\t\t\t\t\t\t\t\n",
      "\t^<Leaf\t\t\t(id=56, scale=2)\t\t\t\t\t\t\t\t\t\t\n",
      "\t^/LSegment\t\t\t(id=57, scale=3)\t\t\t\t\t\t\t\t\t\t\n",
      "\t^<LSegment\t\t\t(id=58, scale=3)\t\t\t\t\t\t\t\t\t\t\n",
      "\t^<LSegment\t\t\t(id=59, scale=3)\t\t\t\t\t\t\t\t\t\t\n",
      "\t^<LSegment\t\t\t(id=60, scale=3)\t\t\t\t\t\t\t\t\t\t\n",
      "\t^<LSegment\t\t\t(id=61, scale=3)\t\t\t\t\t\t\t\t\t\t\n",
      "^<Internode\t\t\t(id=62, scale=2)\t\t\t\t\t\t\t\t\t\t\t\n",
      "^/ISegment\t\t\t(id=63, scale=3)\t\t\t\t\t\t\t\t\t\t\t\n",
      "\t+Internode\t\t\t(id=66, scale=2)\t\t\t\t\t\t\t\t\t\t\n",
      "\t^/ISegment\t\t\t(id=67, scale=3)\t\t\t\t\t\t\t\t\t\t\n",
      "\t^<Leaf\t\t\t(id=68, scale=2)\t\t\t\t\t\t\t\t\t\t\n",
      "\t^/LSegment\t\t\t(id=69, scale=3)\t\t\t\t\t\t\t\t\t\t\n",
      "\t^<LSegment\t\t\t(id=70, scale=3)\t\t\t\t\t\t\t\t\t\t\n",
      "\t^<LSegment\t\t\t(id=71, scale=3)\t\t\t\t\t\t\t\t\t\t\n",
      "\t^<LSegment\t\t\t(id=72, scale=3)\t\t\t\t\t\t\t\t\t\t\n",
      "\t^<LSegment\t\t\t(id=73, scale=3)\t\t\t\t\t\t\t\t\t\t\n",
      "^<Internode\t\t\t(id=74, scale=2)\t\t\t\t\t\t\t\t\t\t\t\n",
      "^/ISegment\t\t\t(id=75, scale=3)\t\t\t\t\t\t\t\t\t\t\t\n",
      "\t+Internode\t\t\t(id=78, scale=2)\t\t\t\t\t\t\t\t\t\t\n",
      "\t^/ISegment\t\t\t(id=79, scale=3)\t\t\t\t\t\t\t\t\t\t\n",
      "\t^<Leaf\t\t\t(id=80, scale=2)\t\t\t\t\t\t\t\t\t\t\n",
      "\t^/LSegment\t\t\t(id=81, scale=3)\t\t\t\t\t\t\t\t\t\t\n",
      "\t^<LSegment\t\t\t(id=82, scale=3)\t\t\t\t\t\t\t\t\t\t\n",
      "\t^<LSegment\t\t\t(id=83, scale=3)\t\t\t\t\t\t\t\t\t\t\n",
      "\t^<LSegment\t\t\t(id=84, scale=3)\t\t\t\t\t\t\t\t\t\t\n",
      "\t^<LSegment\t\t\t(id=85, scale=3)\t\t\t\t\t\t\t\t\t\t\n",
      "^<Internode\t\t\t(id=86, scale=2)\t\t\t\t\t\t\t\t\t\t\t\n",
      "^/ISegment\t\t\t(id=87, scale=3)\t\t\t\t\t\t\t\t\t\t\t\n",
      "\t+Internode\t\t\t(id=90, scale=2)\t\t\t\t\t\t\t\t\t\t\n",
      "\t^/ISegment\t\t\t(id=91, scale=3)\t\t\t\t\t\t\t\t\t\t\n",
      "\t^<Leaf\t\t\t(id=92, scale=2)\t\t\t\t\t\t\t\t\t\t\n",
      "\t^/LSegment\t\t\t(id=93, scale=3)\t\t\t\t\t\t\t\t\t\t\n",
      "\t^<LSegment\t\t\t(id=94, scale=3)\t\t\t\t\t\t\t\t\t\t\n",
      "\t^<LSegment\t\t\t(id=95, scale=3)\t\t\t\t\t\t\t\t\t\t\n",
      "\t^<LSegment\t\t\t(id=96, scale=3)\t\t\t\t\t\t\t\t\t\t\n",
      "\t^<LSegment\t\t\t(id=97, scale=3)\t\t\t\t\t\t\t\t\t\t\n",
      "^<Internode\t\t\t(id=98, scale=2)\t\t\t\t\t\t\t\t\t\t\t\n",
      "^/ISegment\t\t\t(id=99, scale=3)\t\t\t\t\t\t\t\t\t\t\t\n",
      "\t+Internode\t\t\t(id=102, scale=2)\t\t\t\t\t\t\t\t\t\t\n",
      "\t^/ISegment\t\t\t(id=103, scale=3)\t\t\t\t\t\t\t\t\t\t\n",
      "\t^<Leaf\t\t\t(id=104, scale=2)\t\t\t\t\t\t\t\t\t\t\n",
      "\t^/LSegment\t\t\t(id=105, scale=3)\t\t\t\t\t\t\t\t\t\t\n",
      "\t^<LSegment\t\t\t(id=106, scale=3)\t\t\t\t\t\t\t\t\t\t\n",
      "\t^<LSegment\t\t\t(id=107, scale=3)\t\t\t\t\t\t\t\t\t\t\n",
      "\t^<LSegment\t\t\t(id=108, scale=3)\t\t\t\t\t\t\t\t\t\t\n",
      "\t^<LSegment\t\t\t(id=109, scale=3)\t\t\t\t\t\t\t\t\t\t\n",
      "^<Internode\t\t\t(id=110, scale=2)\t\t\t\t\t\t\t\t\t\t\t\n",
      "^/ISegment\t\t\t(id=111, scale=3)\t\t\t\t\t\t\t\t\t\t\t\n",
      "\t+Internode\t\t\t(id=114, scale=2)\t\t\t\t\t\t\t\t\t\t\n",
      "\t^/ISegment\t\t\t(id=115, scale=3)\t\t\t\t\t\t\t\t\t\t\n",
      "\t^<Leaf\t\t\t(id=116, scale=2)\t\t\t\t\t\t\t\t\t\t\n",
      "\t^/LSegment\t\t\t(id=117, scale=3)\t\t\t\t\t\t\t\t\t\t\n",
      "\t^<LSegment\t\t\t(id=118, scale=3)\t\t\t\t\t\t\t\t\t\t\n",
      "\t^<LSegment\t\t\t(id=119, scale=3)\t\t\t\t\t\t\t\t\t\t\n",
      "\t^<LSegment\t\t\t(id=120, scale=3)\t\t\t\t\t\t\t\t\t\t\n",
      "\t^<LSegment\t\t\t(id=121, scale=3)\t\t\t\t\t\t\t\t\t\t\n",
      "^<Internode\t\t\t(id=122, scale=2)\t\t\t\t\t\t\t\t\t\t\t\n",
      "^/ISegment\t\t\t(id=123, scale=3)\t\t\t\t\t\t\t\t\t\t\t\n",
      "\t+Internode\t\t\t(id=126, scale=2)\t\t\t\t\t\t\t\t\t\t\n",
      "\t^/ISegment\t\t\t(id=127, scale=3)\t\t\t\t\t\t\t\t\t\t\n",
      "\t^<Leaf\t\t\t(id=128, scale=2)\t\t\t\t\t\t\t\t\t\t\n",
      "\t^/LSegment\t\t\t(id=129, scale=3)\t\t\t\t\t\t\t\t\t\t\n",
      "\t^<LSegment\t\t\t(id=130, scale=3)\t\t\t\t\t\t\t\t\t\t\n",
      "\t^<LSegment\t\t\t(id=131, scale=3)\t\t\t\t\t\t\t\t\t\t\n",
      "\t^<LSegment\t\t\t(id=132, scale=3)\t\t\t\t\t\t\t\t\t\t\n",
      "\t^<LSegment\t\t\t(id=133, scale=3)\t\t\t\t\t\t\t\t\t\t\n",
      "^<Internode\t\t\t(id=134, scale=2)\t\t\t\t\t\t\t\t\t\t\t\n",
      "^/ISegment\t\t\t(id=135, scale=3)\t\t\t\t\t\t\t\t\t\t\t\n",
      "\t+Internode\t\t\t(id=138, scale=2)\t\t\t\t\t\t\t\t\t\t\n",
      "\t^/ISegment\t\t\t(id=139, scale=3)\t\t\t\t\t\t\t\t\t\t\n",
      "\t^<Leaf\t\t\t(id=140, scale=2)\t\t\t\t\t\t\t\t\t\t\n",
      "\t^/LSegment\t\t\t(id=141, scale=3)\t\t\t\t\t\t\t\t\t\t\n",
      "\t^<LSegment\t\t\t(id=142, scale=3)\t\t\t\t\t\t\t\t\t\t\n",
      "\t^<LSegment\t\t\t(id=143, scale=3)\t\t\t\t\t\t\t\t\t\t\n",
      "\t^<LSegment\t\t\t(id=144, scale=3)\t\t\t\t\t\t\t\t\t\t\n",
      "\t^<LSegment\t\t\t(id=145, scale=3)\t\t\t\t\t\t\t\t\t\t\n",
      "^<Internode\t\t\t(id=146, scale=2)\t\t\t\t\t\t\t\t\t\t\t\n",
      "^/ISegment\t\t\t(id=147, scale=3)\t\t\t\t\t\t\t\t\t\t\t\n",
      "\t+Internode\t\t\t(id=150, scale=2)\t\t\t\t\t\t\t\t\t\t\n",
      "\t^/ISegment\t\t\t(id=151, scale=3)\t\t\t\t\t\t\t\t\t\t\n",
      "\t^<Leaf\t\t\t(id=152, scale=2)\t\t\t\t\t\t\t\t\t\t\n",
      "\t^/LSegment\t\t\t(id=153, scale=3)\t\t\t\t\t\t\t\t\t\t\n",
      "\t^<LSegment\t\t\t(id=154, scale=3)\t\t\t\t\t\t\t\t\t\t\n",
      "\t^<LSegment\t\t\t(id=155, scale=3)\t\t\t\t\t\t\t\t\t\t\n",
      "\t^<LSegment\t\t\t(id=156, scale=3)\t\t\t\t\t\t\t\t\t\t\n",
      "\t^<LSegment\t\t\t(id=157, scale=3)\t\t\t\t\t\t\t\t\t\t\n",
      "^<Internode\t\t\t(id=158, scale=2)\t\t\t\t\t\t\t\t\t\t\t\n",
      "^/ISegment\t\t\t(id=159, scale=3)\t\t\t\t\t\t\t\t\t\t\t\n",
      "\t+Internode\t\t\t(id=162, scale=2)\t\t\t\t\t\t\t\t\t\t\n",
      "\t^/ISegment\t\t\t(id=163, scale=3)\t\t\t\t\t\t\t\t\t\t\n",
      "\t^<Leaf\t\t\t(id=164, scale=2)\t\t\t\t\t\t\t\t\t\t\n",
      "\t^/LSegment\t\t\t(id=165, scale=3)\t\t\t\t\t\t\t\t\t\t\n",
      "\t^<LSegment\t\t\t(id=166, scale=3)\t\t\t\t\t\t\t\t\t\t\n",
      "\t^<LSegment\t\t\t(id=167, scale=3)\t\t\t\t\t\t\t\t\t\t\n",
      "\t^<LSegment\t\t\t(id=168, scale=3)\t\t\t\t\t\t\t\t\t\t\n",
      "\t^<LSegment\t\t\t(id=169, scale=3)\t\t\t\t\t\t\t\t\t\t\n",
      "^<Internode\t\t\t(id=170, scale=2)\t\t\t\t\t\t\t\t\t\t\t\n",
      "^/ISegment\t\t\t(id=171, scale=3)\t\t\t\t\t\t\t\t\t\t\t\n",
      "\t+Internode\t\t\t(id=174, scale=2)\t\t\t\t\t\t\t\t\t\t\n",
      "\t^/ISegment\t\t\t(id=175, scale=3)\t\t\t\t\t\t\t\t\t\t\n",
      "\t^<Leaf\t\t\t(id=176, scale=2)\t\t\t\t\t\t\t\t\t\t\n",
      "\t^/LSegment\t\t\t(id=177, scale=3)\t\t\t\t\t\t\t\t\t\t\n",
      "\t^<LSegment\t\t\t(id=178, scale=3)\t\t\t\t\t\t\t\t\t\t\n",
      "\t^<LSegment\t\t\t(id=179, scale=3)\t\t\t\t\t\t\t\t\t\t\n",
      "\t^<LSegment\t\t\t(id=180, scale=3)\t\t\t\t\t\t\t\t\t\t\n",
      "\t^<LSegment\t\t\t(id=181, scale=3)\t\t\t\t\t\t\t\t\t\t\n",
      "^<Internode\t\t\t(id=182, scale=2)\t\t\t\t\t\t\t\t\t\t\t\n",
      "^/ISegment\t\t\t(id=183, scale=3)\t\t\t\t\t\t\t\t\t\t\t\n",
      "\t+Internode\t\t\t(id=186, scale=2)\t\t\t\t\t\t\t\t\t\t\n",
      "\t^/ISegment\t\t\t(id=187, scale=3)\t\t\t\t\t\t\t\t\t\t\n",
      "\t^<Leaf\t\t\t(id=188, scale=2)\t\t\t\t\t\t\t\t\t\t\n",
      "\t^/LSegment\t\t\t(id=189, scale=3)\t\t\t\t\t\t\t\t\t\t\n",
      "\t^<LSegment\t\t\t(id=190, scale=3)\t\t\t\t\t\t\t\t\t\t\n",
      "\t^<LSegment\t\t\t(id=191, scale=3)\t\t\t\t\t\t\t\t\t\t\n",
      "\t^<LSegment\t\t\t(id=192, scale=3)\t\t\t\t\t\t\t\t\t\t\n",
      "\t^<LSegment\t\t\t(id=193, scale=3)\t\t\t\t\t\t\t\t\t\t\n",
      "^<Internode\t\t\t(id=194, scale=2)\t\t\t\t\t\t\t\t\t\t\t\n",
      "^/ISegment\t\t\t(id=195, scale=3)\t\t\t\t\t\t\t\t\t\t\t\n",
      "\t+Internode\t\t\t(id=198, scale=2)\t\t\t\t\t\t\t\t\t\t\n",
      "\t^/ISegment\t\t\t(id=199, scale=3)\t\t\t\t\t\t\t\t\t\t\n",
      "\t^<Leaf\t\t\t(id=200, scale=2)\t\t\t\t\t\t\t\t\t\t\n",
      "\t^/LSegment\t\t\t(id=201, scale=3)\t\t\t\t\t\t\t\t\t\t\n",
      "\t^<LSegment\t\t\t(id=202, scale=3)\t\t\t\t\t\t\t\t\t\t\n",
      "\t^<LSegment\t\t\t(id=203, scale=3)\t\t\t\t\t\t\t\t\t\t\n",
      "\t^<LSegment\t\t\t(id=204, scale=3)\t\t\t\t\t\t\t\t\t\t\n",
      "\t^<LSegment\t\t\t(id=205, scale=3)\t\t\t\t\t\t\t\t\t\t\n",
      "^<Internode\t\t\t(id=206, scale=2)\t\t\t\t\t\t\t\t\t\t\t\n",
      "^/ISegment\t\t\t(id=207, scale=3)\t\t\t\t\t\t\t\t\t\t\t\n",
      "\t+Internode\t\t\t(id=210, scale=2)\t\t\t\t\t\t\t\t\t\t\n",
      "\t^/ISegment\t\t\t(id=211, scale=3)\t\t\t\t\t\t\t\t\t\t\n",
      "\t^<Leaf\t\t\t(id=212, scale=2)\t\t\t\t\t\t\t\t\t\t\n",
      "\t^/LSegment\t\t\t(id=213, scale=3)\t\t\t\t\t\t\t\t\t\t\n",
      "\t^<LSegment\t\t\t(id=214, scale=3)\t\t\t\t\t\t\t\t\t\t\n",
      "\t^<LSegment\t\t\t(id=215, scale=3)\t\t\t\t\t\t\t\t\t\t\n",
      "\t^<LSegment\t\t\t(id=216, scale=3)\t\t\t\t\t\t\t\t\t\t\n",
      "\t^<LSegment\t\t\t(id=217, scale=3)\t\t\t\t\t\t\t\t\t\t\n",
      "^<Internode\t\t\t(id=218, scale=2)\t\t\t\t\t\t\t\t\t\t\t\n",
      "^/ISegment\t\t\t(id=219, scale=3)\t\t\t\t\t\t\t\t\t\t\t\n",
      "\t+Internode\t\t\t(id=222, scale=2)\t\t\t\t\t\t\t\t\t\t\n",
      "\t^/ISegment\t\t\t(id=223, scale=3)\t\t\t\t\t\t\t\t\t\t\n",
      "\t^<Leaf\t\t\t(id=224, scale=2)\t\t\t\t\t\t\t\t\t\t\n",
      "\t^/LSegment\t\t\t(id=225, scale=3)\t\t\t\t\t\t\t\t\t\t\n",
      "\t^<LSegment\t\t\t(id=226, scale=3)\t\t\t\t\t\t\t\t\t\t\n",
      "\t^<LSegment\t\t\t(id=227, scale=3)\t\t\t\t\t\t\t\t\t\t\n",
      "\t^<LSegment\t\t\t(id=228, scale=3)\t\t\t\t\t\t\t\t\t\t\n",
      "\t^<LSegment\t\t\t(id=229, scale=3)\t\t\t\t\t\t\t\t\t\t\n",
      "^<Internode\t\t\t(id=230, scale=2)\t\t\t\t\t\t\t\t\t\t\t\n",
      "^/ISegment\t\t\t(id=231, scale=3)\t\t\t\t\t\t\t\t\t\t\t\n",
      "\t+Internode\t\t\t(id=234, scale=2)\t\t\t\t\t\t\t\t\t\t\n",
      "\t^/ISegment\t\t\t(id=235, scale=3)\t\t\t\t\t\t\t\t\t\t\n",
      "\t^<Leaf\t\t\t(id=236, scale=2)\t\t\t\t\t\t\t\t\t\t\n",
      "\t^/LSegment\t\t\t(id=237, scale=3)\t\t\t\t\t\t\t\t\t\t\n",
      "\t^<LSegment\t\t\t(id=238, scale=3)\t\t\t\t\t\t\t\t\t\t\n",
      "\t^<LSegment\t\t\t(id=239, scale=3)\t\t\t\t\t\t\t\t\t\t\n",
      "\t^<LSegment\t\t\t(id=240, scale=3)\t\t\t\t\t\t\t\t\t\t\n",
      "\t^<LSegment\t\t\t(id=241, scale=3)\t\t\t\t\t\t\t\t\t\t\n",
      "^<Internode\t\t\t(id=242, scale=2)\t\t\t\t\t\t\t\t\t\t\t\n",
      "^/ISegment\t\t\t(id=243, scale=3)\t\t\t\t\t\t\t\t\t\t\t\n",
      "\t+LeafBud\t\t\t(id=244, scale=3)\t\t\t\t\t\t\t\t\t\t\n",
      "^<AxisBud\t\t\t(id=245, scale=3)\t\t\t\t\t\t\t\t\t\t\t\n"
     ]
    }
   ],
   "source": [
    "print('Result:')\n",
    "mtg.display(display_scale=True)"
   ]
  },
  {
   "cell_type": "code",
   "execution_count": null,
   "metadata": {
    "collapsed": true,
    "jupyter": {
     "outputs_hidden": true
    }
   },
   "outputs": [],
   "source": []
  }
 ],
 "metadata": {
  "kernelspec": {
   "display_name": "Python 3 (ipykernel)",
   "language": "python",
   "name": "python3"
  },
  "language_info": {
   "codemirror_mode": {
    "name": "ipython",
    "version": 3
   },
   "file_extension": ".py",
   "mimetype": "text/x-python",
   "name": "python",
   "nbconvert_exporter": "python",
   "pygments_lexer": "ipython3",
   "version": "3.12.3"
  }
 },
 "nbformat": 4,
 "nbformat_minor": 4
}
